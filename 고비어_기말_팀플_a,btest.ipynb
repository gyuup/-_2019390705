{
 "cells": [
  {
   "cell_type": "code",
   "execution_count": 1,
   "metadata": {},
   "outputs": [],
   "source": [
    "import pandas as pd\n",
    "import seaborn as sns\n",
    "import matplotlib.pyplot as plt\n",
    "import statsmodels.stats.api as sms\n",
    "import numpy as np\n",
    "import scipy.stats as stats\n",
    "from scipy.stats import shapiro, levene, mannwhitneyu, normaltest\n",
    "from scipy.stats import ttest_ind\n",
    "from sklearn.preprocessing import StandardScaler\n",
    "from statsmodels.stats.weightstats import ztest"
   ]
  },
  {
   "cell_type": "code",
   "execution_count": 2,
   "metadata": {},
   "outputs": [
    {
     "data": {
      "text/html": [
       "<div>\n",
       "<style scoped>\n",
       "    .dataframe tbody tr th:only-of-type {\n",
       "        vertical-align: middle;\n",
       "    }\n",
       "\n",
       "    .dataframe tbody tr th {\n",
       "        vertical-align: top;\n",
       "    }\n",
       "\n",
       "    .dataframe thead th {\n",
       "        text-align: right;\n",
       "    }\n",
       "</style>\n",
       "<table border=\"1\" class=\"dataframe\">\n",
       "  <thead>\n",
       "    <tr style=\"text-align: right;\">\n",
       "      <th></th>\n",
       "      <th>id</th>\n",
       "      <th>age</th>\n",
       "      <th>gender</th>\n",
       "      <th>income</th>\n",
       "      <th>education</th>\n",
       "      <th>region</th>\n",
       "      <th>loyalty_status</th>\n",
       "      <th>purchase_frequency</th>\n",
       "      <th>purchase_amount</th>\n",
       "      <th>product_category</th>\n",
       "      <th>promotion_usage</th>\n",
       "      <th>satisfaction_score</th>\n",
       "      <th>first_purchase_date</th>\n",
       "      <th>purchase_dates</th>\n",
       "      <th>last_purchase_date</th>\n",
       "    </tr>\n",
       "  </thead>\n",
       "  <tbody>\n",
       "    <tr>\n",
       "      <th>0</th>\n",
       "      <td>1</td>\n",
       "      <td>27</td>\n",
       "      <td>Male</td>\n",
       "      <td>40682</td>\n",
       "      <td>Bachelor</td>\n",
       "      <td>East</td>\n",
       "      <td>Gold</td>\n",
       "      <td>frequent</td>\n",
       "      <td>18249</td>\n",
       "      <td>Books</td>\n",
       "      <td>0</td>\n",
       "      <td>6</td>\n",
       "      <td>2021-12-22</td>\n",
       "      <td>2022-01-08, 2022-01-20, 2022-03-23, 2022-06-12...</td>\n",
       "      <td>2022-12-08</td>\n",
       "    </tr>\n",
       "    <tr>\n",
       "      <th>1</th>\n",
       "      <td>2</td>\n",
       "      <td>29</td>\n",
       "      <td>Male</td>\n",
       "      <td>15317</td>\n",
       "      <td>Masters</td>\n",
       "      <td>West</td>\n",
       "      <td>Regular</td>\n",
       "      <td>rare</td>\n",
       "      <td>4557</td>\n",
       "      <td>Clothing</td>\n",
       "      <td>1</td>\n",
       "      <td>6</td>\n",
       "      <td>2021-03-11</td>\n",
       "      <td>2021-06-18</td>\n",
       "      <td>2021-06-18</td>\n",
       "    </tr>\n",
       "    <tr>\n",
       "      <th>2</th>\n",
       "      <td>3</td>\n",
       "      <td>37</td>\n",
       "      <td>Male</td>\n",
       "      <td>38849</td>\n",
       "      <td>Bachelor</td>\n",
       "      <td>West</td>\n",
       "      <td>Silver</td>\n",
       "      <td>rare</td>\n",
       "      <td>11822</td>\n",
       "      <td>Clothing</td>\n",
       "      <td>0</td>\n",
       "      <td>6</td>\n",
       "      <td>2021-06-18</td>\n",
       "      <td>2022-01-06</td>\n",
       "      <td>2022-01-06</td>\n",
       "    </tr>\n",
       "    <tr>\n",
       "      <th>3</th>\n",
       "      <td>4</td>\n",
       "      <td>30</td>\n",
       "      <td>Male</td>\n",
       "      <td>11568</td>\n",
       "      <td>HighSchool</td>\n",
       "      <td>South</td>\n",
       "      <td>Regular</td>\n",
       "      <td>frequent</td>\n",
       "      <td>4098</td>\n",
       "      <td>Food</td>\n",
       "      <td>0</td>\n",
       "      <td>7</td>\n",
       "      <td>2021-03-28</td>\n",
       "      <td>2021-04-25, 2021-06-22, 2021-07-11, 2021-09-07...</td>\n",
       "      <td>2022-03-13</td>\n",
       "    </tr>\n",
       "    <tr>\n",
       "      <th>4</th>\n",
       "      <td>5</td>\n",
       "      <td>31</td>\n",
       "      <td>Female</td>\n",
       "      <td>46952</td>\n",
       "      <td>College</td>\n",
       "      <td>North</td>\n",
       "      <td>Regular</td>\n",
       "      <td>occasional</td>\n",
       "      <td>19685</td>\n",
       "      <td>Clothing</td>\n",
       "      <td>1</td>\n",
       "      <td>5</td>\n",
       "      <td>2021-05-22</td>\n",
       "      <td>2021-07-02, 2021-08-30, 2021-12-09, 2022-01-04...</td>\n",
       "      <td>2022-04-22</td>\n",
       "    </tr>\n",
       "  </tbody>\n",
       "</table>\n",
       "</div>"
      ],
      "text/plain": [
       "   id  age  gender  income   education region loyalty_status  \\\n",
       "0   1   27    Male   40682    Bachelor   East           Gold   \n",
       "1   2   29    Male   15317     Masters   West        Regular   \n",
       "2   3   37    Male   38849    Bachelor   West         Silver   \n",
       "3   4   30    Male   11568  HighSchool  South        Regular   \n",
       "4   5   31  Female   46952     College  North        Regular   \n",
       "\n",
       "  purchase_frequency  purchase_amount product_category  promotion_usage  \\\n",
       "0           frequent            18249            Books                0   \n",
       "1               rare             4557         Clothing                1   \n",
       "2               rare            11822         Clothing                0   \n",
       "3           frequent             4098             Food                0   \n",
       "4         occasional            19685         Clothing                1   \n",
       "\n",
       "   satisfaction_score first_purchase_date  \\\n",
       "0                   6          2021-12-22   \n",
       "1                   6          2021-03-11   \n",
       "2                   6          2021-06-18   \n",
       "3                   7          2021-03-28   \n",
       "4                   5          2021-05-22   \n",
       "\n",
       "                                      purchase_dates last_purchase_date  \n",
       "0  2022-01-08, 2022-01-20, 2022-03-23, 2022-06-12...         2022-12-08  \n",
       "1                                         2021-06-18         2021-06-18  \n",
       "2                                         2022-01-06         2022-01-06  \n",
       "3  2021-04-25, 2021-06-22, 2021-07-11, 2021-09-07...         2022-03-13  \n",
       "4  2021-07-02, 2021-08-30, 2021-12-09, 2022-01-04...         2022-04-22  "
      ]
     },
     "execution_count": 2,
     "metadata": {},
     "output_type": "execute_result"
    }
   ],
   "source": [
    "#### Load dataset\n",
    "data = pd.read_csv('customer_data_TP2_전처리완료.csv')\n",
    "data.head()"
   ]
  },
  {
   "cell_type": "code",
   "execution_count": 3,
   "metadata": {},
   "outputs": [
    {
     "name": "stdout",
     "output_type": "stream",
     "text": [
      "<class 'pandas.core.frame.DataFrame'>\n",
      "RangeIndex: 100000 entries, 0 to 99999\n",
      "Data columns (total 15 columns):\n",
      " #   Column               Non-Null Count   Dtype \n",
      "---  ------               --------------   ----- \n",
      " 0   id                   100000 non-null  int64 \n",
      " 1   age                  100000 non-null  int64 \n",
      " 2   gender               100000 non-null  object\n",
      " 3   income               100000 non-null  int64 \n",
      " 4   education            100000 non-null  object\n",
      " 5   region               100000 non-null  object\n",
      " 6   loyalty_status       100000 non-null  object\n",
      " 7   purchase_frequency   100000 non-null  object\n",
      " 8   purchase_amount      100000 non-null  int64 \n",
      " 9   product_category     100000 non-null  object\n",
      " 10  promotion_usage      100000 non-null  int64 \n",
      " 11  satisfaction_score   100000 non-null  int64 \n",
      " 12  first_purchase_date  100000 non-null  object\n",
      " 13  purchase_dates       100000 non-null  object\n",
      " 14  last_purchase_date   100000 non-null  object\n",
      "dtypes: int64(6), object(9)\n",
      "memory usage: 11.4+ MB\n"
     ]
    }
   ],
   "source": [
    "#### Check format\n",
    "data.info()"
   ]
  },
  {
   "cell_type": "code",
   "execution_count": 4,
   "metadata": {},
   "outputs": [
    {
     "name": "stdout",
     "output_type": "stream",
     "text": [
      "id\n",
      "[     1      2      3 ...  99998  99999 100000]\n",
      "age\n",
      "[27 29 37 ... 29 31 35]\n",
      "gender\n",
      "['Male' 'Male' 'Male' ... 'Male' 'Female' 'Female']\n",
      "income\n",
      "[40682 15317 38849 ... 13222 40093 22249]\n",
      "education\n",
      "['Bachelor' 'Masters' 'Bachelor' ... 'College' 'Bachelor' 'College']\n",
      "region\n",
      "['East' 'West' 'West' ... 'West' 'West' 'West']\n",
      "loyalty_status\n",
      "['Gold' 'Regular' 'Silver' ... 'Regular' 'Regular' 'Silver']\n",
      "purchase_frequency\n",
      "['frequent' 'rare' 'rare' ... 'frequent' 'frequent' 'rare']\n",
      "purchase_amount\n",
      "[18249  4557 11822 ...  5152 16312  9426]\n",
      "product_category\n",
      "['Books' 'Clothing' 'Clothing' ... 'Clothing' 'Health' 'Health']\n",
      "promotion_usage\n",
      "[0 1 0 ... 0 1 0]\n",
      "satisfaction_score\n",
      "[6 6 6 ... 5 5 6]\n",
      "first_purchase_date\n",
      "['2021-12-22' '2021-03-11' '2021-06-18' ... '2021-06-17' '2021-07-28'\n",
      " '2021-05-08']\n",
      "purchase_dates\n",
      "['2022-01-08, 2022-01-20, 2022-03-23, 2022-06-12, 2022-06-16, 2022-07-02, 2022-09-18, 2022-11-01, 2022-11-14, 2022-11-30, 2022-12-08'\n",
      " '2021-06-18' '2022-01-06' ...\n",
      " '2021-06-27, 2021-07-11, 2021-08-08, 2021-09-01, 2021-10-20, 2021-11-26, 2022-02-12, 2022-03-23, 2022-04-18, 2022-05-22, 2022-05-27'\n",
      " '2021-07-29, 2021-08-30, 2021-09-03, 2021-10-17, 2021-11-17, 2021-12-11, 2021-12-16, 2021-12-20, 2021-12-30, 2022-02-02, 2022-07-13'\n",
      " '2021-10-14']\n",
      "last_purchase_date\n",
      "['2022-12-08' '2021-06-18' '2022-01-06' ... '2022-05-27' '2022-07-13'\n",
      " '2021-10-14']\n"
     ]
    }
   ],
   "source": [
    "#### Check values \n",
    "for x in data.columns: \n",
    "    print(x)\n",
    "    print(data[x].values)"
   ]
  },
  {
   "cell_type": "code",
   "execution_count": 5,
   "metadata": {},
   "outputs": [
    {
     "data": {
      "text/plain": [
       "id                     100000\n",
       "age                        38\n",
       "gender                      2\n",
       "income                  40003\n",
       "education                   4\n",
       "region                      4\n",
       "loyalty_status              3\n",
       "purchase_frequency          3\n",
       "purchase_amount         18902\n",
       "product_category            7\n",
       "promotion_usage             2\n",
       "satisfaction_score         11\n",
       "first_purchase_date       395\n",
       "purchase_dates          50735\n",
       "last_purchase_date        756\n",
       "dtype: int64"
      ]
     },
     "execution_count": 5,
     "metadata": {},
     "output_type": "execute_result"
    }
   ],
   "source": [
    "#### Check unique values\n",
    "data.apply(lambda x: x.nunique())"
   ]
  },
  {
   "cell_type": "code",
   "execution_count": 6,
   "metadata": {},
   "outputs": [
    {
     "data": {
      "text/plain": [
       "id                     0\n",
       "age                    0\n",
       "gender                 0\n",
       "income                 0\n",
       "education              0\n",
       "region                 0\n",
       "loyalty_status         0\n",
       "purchase_frequency     0\n",
       "purchase_amount        0\n",
       "product_category       0\n",
       "promotion_usage        0\n",
       "satisfaction_score     0\n",
       "first_purchase_date    0\n",
       "purchase_dates         0\n",
       "last_purchase_date     0\n",
       "dtype: int64"
      ]
     },
     "execution_count": 6,
     "metadata": {},
     "output_type": "execute_result"
    }
   ],
   "source": [
    "#### Check null\n",
    "data.isnull().sum()"
   ]
  },
  {
   "cell_type": "code",
   "execution_count": 7,
   "metadata": {},
   "outputs": [
    {
     "name": "stdout",
     "output_type": "stream",
     "text": [
      "(100000, 15)\n",
      "(100000, 15)\n"
     ]
    }
   ],
   "source": [
    "#### Remove duplicates\n",
    "print(data.shape)\n",
    "df = data.drop_duplicates(subset= 'id', keep= False)\n",
    "print(df.shape)"
   ]
  },
  {
   "cell_type": "code",
   "execution_count": 8,
   "metadata": {},
   "outputs": [
    {
     "data": {
      "text/html": [
       "<div>\n",
       "<style scoped>\n",
       "    .dataframe tbody tr th:only-of-type {\n",
       "        vertical-align: middle;\n",
       "    }\n",
       "\n",
       "    .dataframe tbody tr th {\n",
       "        vertical-align: top;\n",
       "    }\n",
       "\n",
       "    .dataframe thead th {\n",
       "        text-align: right;\n",
       "    }\n",
       "</style>\n",
       "<table border=\"1\" class=\"dataframe\">\n",
       "  <thead>\n",
       "    <tr style=\"text-align: right;\">\n",
       "      <th></th>\n",
       "      <th>promotion_usage</th>\n",
       "      <th>purchase_amount</th>\n",
       "      <th>satisfaction_score</th>\n",
       "    </tr>\n",
       "  </thead>\n",
       "  <tbody>\n",
       "    <tr>\n",
       "      <th>0</th>\n",
       "      <td>0</td>\n",
       "      <td>18249</td>\n",
       "      <td>6</td>\n",
       "    </tr>\n",
       "    <tr>\n",
       "      <th>1</th>\n",
       "      <td>1</td>\n",
       "      <td>4557</td>\n",
       "      <td>6</td>\n",
       "    </tr>\n",
       "    <tr>\n",
       "      <th>2</th>\n",
       "      <td>0</td>\n",
       "      <td>11822</td>\n",
       "      <td>6</td>\n",
       "    </tr>\n",
       "    <tr>\n",
       "      <th>3</th>\n",
       "      <td>0</td>\n",
       "      <td>4098</td>\n",
       "      <td>7</td>\n",
       "    </tr>\n",
       "    <tr>\n",
       "      <th>4</th>\n",
       "      <td>1</td>\n",
       "      <td>19685</td>\n",
       "      <td>5</td>\n",
       "    </tr>\n",
       "  </tbody>\n",
       "</table>\n",
       "</div>"
      ],
      "text/plain": [
       "   promotion_usage  purchase_amount  satisfaction_score\n",
       "0                0            18249                   6\n",
       "1                1             4557                   6\n",
       "2                0            11822                   6\n",
       "3                0             4098                   7\n",
       "4                1            19685                   5"
      ]
     },
     "execution_count": 8,
     "metadata": {},
     "output_type": "execute_result"
    }
   ],
   "source": [
    "df = data[['promotion_usage', 'purchase_amount', 'satisfaction_score']]\n",
    "df.head()"
   ]
  },
  {
   "cell_type": "code",
   "execution_count": 9,
   "metadata": {},
   "outputs": [],
   "source": [
    "data1 = df.copy()"
   ]
  },
  {
   "cell_type": "code",
   "execution_count": 10,
   "metadata": {},
   "outputs": [],
   "source": [
    "# 프로모션 사용 여부에 따른 그룹 분리\n",
    "group_0 = data1[data1['promotion_usage'] == 0]\n",
    "group_1 = data1[data1['promotion_usage'] == 1]"
   ]
  },
  {
   "cell_type": "code",
   "execution_count": 11,
   "metadata": {},
   "outputs": [
    {
     "name": "stdout",
     "output_type": "stream",
     "text": [
      "69920\n",
      "30080\n"
     ]
    }
   ],
   "source": [
    "print(len(group_0))\n",
    "print(len(group_1))"
   ]
  },
  {
   "cell_type": "code",
   "execution_count": 12,
   "metadata": {},
   "outputs": [],
   "source": [
    "# 정확한 분석을 위한 샘플링 작업 \n",
    "min_sample_size = min(len(group_0), len(group_1))\n",
    "np.random.seed(42)\n",
    "\n",
    "group_0_sample = group_0.sample(n=min_sample_size, random_state=42)\n",
    "group_1_sample = group_1.sample(n=min_sample_size, random_state=42)"
   ]
  },
  {
   "cell_type": "code",
   "execution_count": 13,
   "metadata": {},
   "outputs": [],
   "source": [
    "# 샘플링된 데이터 병합\n",
    "balanced_data = pd.concat([group_0_sample, group_1_sample])"
   ]
  },
  {
   "cell_type": "code",
   "execution_count": 14,
   "metadata": {},
   "outputs": [],
   "source": [
    "# 변수 정규화 - promotion_usage는 이진 변수이기에, 정규화 과정 x\n",
    "scaler = StandardScaler()\n",
    "balanced_data[['purchase_amount', 'satisfaction_score']] = scaler.fit_transform(\n",
    "    balanced_data[['purchase_amount', 'satisfaction_score']]\n",
    ")"
   ]
  },
  {
   "cell_type": "code",
   "execution_count": 15,
   "metadata": {},
   "outputs": [
    {
     "name": "stdout",
     "output_type": "stream",
     "text": [
      "Purchase Amount 평균: -0.0000, 표준편차: 1.0000\n",
      "Satisfaction Score 평균: 0.0000, 표준편차: 1.0000\n"
     ]
    }
   ],
   "source": [
    "# 정규화된 변수\n",
    "purchase_amount = balanced_data['purchase_amount']\n",
    "satisfaction_score = balanced_data['satisfaction_score']\n",
    "\n",
    "# 평균과 표준편차 확인\n",
    "def check_mean_std(column, name):\n",
    "    mean = column.mean()\n",
    "    std = column.std()\n",
    "    print(f\"{name} 평균: {mean:.4f}, 표준편차: {std:.4f}\")\n",
    "\n",
    "check_mean_std(purchase_amount, \"Purchase Amount\")\n",
    "check_mean_std(satisfaction_score, \"Satisfaction Score\")"
   ]
  },
  {
   "cell_type": "code",
   "execution_count": 16,
   "metadata": {
    "scrolled": false
   },
   "outputs": [
    {
     "data": {
      "image/png": "[encoded data removed]",
      "text/plain": [
       "<Figure size 1200x600 with 2 Axes>"
      ]
     },
     "metadata": {},
     "output_type": "display_data"
    },
    {
     "data": {
      "image/png": "[encoded data removed]",
      "text/plain": [
       "<Figure size 1200x600 with 2 Axes>"
      ]
     },
     "metadata": {},
     "output_type": "display_data"
    }
   ],
   "source": [
    "#정규분포 시각화\n",
    "def plot_distribution(data, title):\n",
    "    plt.figure(figsize=(12, 6))\n",
    "\n",
    "    # 히스토그램\n",
    "    plt.subplot(1, 2, 1)\n",
    "    plt.hist(data, bins=30, edgecolor='k')\n",
    "    plt.title(f'{title} Histogram')\n",
    "\n",
    "    # QQ 플롯\n",
    "    plt.subplot(1, 2, 2)\n",
    "    stats.probplot(data, dist=\"norm\", plot=plt)\n",
    "    plt.title(f'{title} QQ Plot')\n",
    "\n",
    "    plt.show()\n",
    "\n",
    "plot_distribution(purchase_amount, \"Purchase Amount\")\n",
    "plot_distribution(satisfaction_score, \"Satisfaction Score\")"
   ]
  },
  {
   "cell_type": "code",
   "execution_count": 17,
   "metadata": {},
   "outputs": [],
   "source": [
    "# t-test를 위한 그룹 재분리\n",
    "group_0_purchase = balanced_data[balanced_data['promotion_usage'] == 0]['purchase_amount']\n",
    "group_1_purchase = balanced_data[balanced_data['promotion_usage'] == 1]['purchase_amount']\n",
    "\n",
    "group_0_satisfaction = balanced_data[balanced_data['promotion_usage'] == 0]['satisfaction_score']\n",
    "group_1_satisfaction = balanced_data[balanced_data['promotion_usage'] == 1]['satisfaction_score']"
   ]
  },
  {
   "cell_type": "code",
   "execution_count": 18,
   "metadata": {},
   "outputs": [],
   "source": [
    "# t-test\n",
    "def perform_ttest(group_0, group_1, metric):\n",
    "    stat, p_value = ttest_ind(group_0, group_1, equal_var=False)\n",
    "    print(f\"\\n== {metric} A/B 테스트 (t-test) 결과 ==\")\n",
    "    print(f\"t-statistic: {stat:.4f}, p-value: {p_value:.4f}\")\n",
    "    if p_value < 0.05:\n",
    "        print(f\"'{metric}'에서 두 그룹 간 통계적으로 유의한 차이가 있습니다.\\n\")\n",
    "    else:\n",
    "        print(f\"'{metric}'에서 두 그룹 간 통계적으로 유의한 차이가 없습니다.\\n\")"
   ]
  },
  {
   "cell_type": "code",
   "execution_count": 19,
   "metadata": {},
   "outputs": [
    {
     "name": "stdout",
     "output_type": "stream",
     "text": [
      "\n",
      "== Purchase Amount A/B 테스트 (t-test) 결과 ==\n",
      "t-statistic: -0.2829, p-value: 0.7773\n",
      "'Purchase Amount'에서 두 그룹 간 통계적으로 유의한 차이가 없습니다.\n",
      "\n",
      "\n",
      "== Satisfaction Score A/B 테스트 (t-test) 결과 ==\n",
      "t-statistic: -0.0354, p-value: 0.9717\n",
      "'Satisfaction Score'에서 두 그룹 간 통계적으로 유의한 차이가 없습니다.\n",
      "\n"
     ]
    }
   ],
   "source": [
    "#결과 도출\n",
    "# Purchase Amount A/B 테스트\n",
    "perform_ttest(group_0_purchase, group_1_purchase, \"Purchase Amount\")\n",
    "\n",
    "# Satisfaction Score A/B 테스트\n",
    "perform_ttest(group_0_satisfaction, group_1_satisfaction, \"Satisfaction Score\")"
   ]
  },
  {
   "cell_type": "code",
   "execution_count": 20,
   "metadata": {},
   "outputs": [],
   "source": [
    "#정규화하여, t-test를 진행하였지만, t-test의 경우, 표본 크기가 작고 분산을 모를때 사용.\n",
    "#현재 데이터의 양이 10만개이기에 t-test 보단 z-test를 사용하는 것이 훨 좋을수도."
   ]
  },
  {
   "cell_type": "code",
   "execution_count": 21,
   "metadata": {},
   "outputs": [
    {
     "name": "stdout",
     "output_type": "stream",
     "text": [
      "\n",
      "== Purchase Amount A/B 테스트 (Z-test) 결과 ==\n",
      "Z-statistic: -0.2829, p-value: 0.7773\n",
      "'Purchase Amount'에서 두 그룹 간 통계적으로 유의한 차이가 없습니다.\n",
      "\n",
      "\n",
      "== Satisfaction Score A/B 테스트 (Z-test) 결과 ==\n",
      "Z-statistic: -0.0354, p-value: 0.9717\n",
      "'Satisfaction Score'에서 두 그룹 간 통계적으로 유의한 차이가 없습니다.\n",
      "\n"
     ]
    }
   ],
   "source": [
    "# Z-test 수행 함수\n",
    "def perform_ztest(group_0, group_1, metric):\n",
    "    stat, p_value = ztest(group_0, group_1, alternative='two-sided')\n",
    "    print(f\"\\n== {metric} A/B 테스트 (Z-test) 결과 ==\")\n",
    "    print(f\"Z-statistic: {stat:.4f}, p-value: {p_value:.4f}\")\n",
    "    if p_value < 0.05:\n",
    "        print(f\"'{metric}'에서 두 그룹 간 통계적으로 유의한 차이가 있습니다.\\n\")\n",
    "    else:\n",
    "        print(f\"'{metric}'에서 두 그룹 간 통계적으로 유의한 차이가 없습니다.\\n\")\n",
    "\n",
    "# Purchase Amount Z-test\n",
    "perform_ztest(group_0_purchase, group_1_purchase, \"Purchase Amount\")\n",
    "\n",
    "# Satisfaction Score Z-test\n",
    "perform_ztest(group_0_satisfaction, group_1_satisfaction, \"Satisfaction Score\")"
   ]
  },
  {
   "cell_type": "code",
   "execution_count": 22,
   "metadata": {},
   "outputs": [
    {
     "name": "stdout",
     "output_type": "stream",
     "text": [
      "Group 0 샘플 수: 30080\n",
      "Group 1 샘플 수: 30080\n",
      "\n",
      "\n",
      "Purchase Amount 정규화 확인\n",
      "평균: -0.0012, 표준편차: 1.0011\n",
      "평균: 0.0012, 표준편차: 0.9989\n",
      "\n",
      "Satisfaction Score 정규화 확인\n",
      "평균: -0.0001, 표준편차: 1.0039\n",
      "평균: 0.0001, 표준편차: 0.9961\n"
     ]
    }
   ],
   "source": [
    "print(f\"Group 0 샘플 수: {len(group_0_purchase)}\")\n",
    "print(f\"Group 1 샘플 수: {len(group_1_purchase)}\")\n",
    "\n",
    "print(\"\\n\")\n",
    "\n",
    "print(\"Purchase Amount 정규화 확인\")\n",
    "print(f\"평균: {group_0_purchase.mean():.4f}, 표준편차: {group_0_purchase.std():.4f}\")\n",
    "print(f\"평균: {group_1_purchase.mean():.4f}, 표준편차: {group_1_purchase.std():.4f}\")\n",
    "\n",
    "print(\"\\nSatisfaction Score 정규화 확인\")\n",
    "print(f\"평균: {group_0_satisfaction.mean():.4f}, 표준편차: {group_0_satisfaction.std():.4f}\")\n",
    "print(f\"평균: {group_1_satisfaction.mean():.4f}, 표준편차: {group_1_satisfaction.std():.4f}\")\n"
   ]
  },
  {
   "cell_type": "code",
   "execution_count": null,
   "metadata": {},
   "outputs": [],
   "source": []
  }
 ],
 "metadata": {
  "kernelspec": {
   "display_name": "myenv",
   "language": "python",
   "name": "myenv"
  },
  "language_info": {
   "codemirror_mode": {
    "name": "ipython",
    "version": 3
   },
   "file_extension": ".py",
   "mimetype": "text/x-python",
   "name": "python",
   "nbconvert_exporter": "python",
   "pygments_lexer": "ipython3",
   "version": "3.12.6"
  }
 },
 "nbformat": 4,
 "nbformat_minor": 2
}
