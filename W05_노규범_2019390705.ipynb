{
 "cells": [
  {
   "cell_type": "code",
   "execution_count": 1,
   "metadata": {},
   "outputs": [
    {
     "name": "stdout",
     "output_type": "stream",
     "text": [
      "Requirement already satisfied: statsmodels in c:\\users\\user\\appdata\\local\\continuum\\anaconda3\\lib\\site-packages (0.9.0)\n"
     ]
    }
   ],
   "source": [
    "!pip install statsmodels"
   ]
  },
  {
   "cell_type": "code",
   "execution_count": 2,
   "metadata": {},
   "outputs": [
    {
     "name": "stdout",
     "output_type": "stream",
     "text": [
      "Requirement already satisfied: pandas in c:\\users\\user\\appdata\\local\\continuum\\anaconda3\\lib\\site-packages (1.3.5)\n",
      "Requirement already satisfied: numpy in c:\\users\\user\\appdata\\local\\continuum\\anaconda3\\lib\\site-packages (1.21.6)\n",
      "Requirement already satisfied: matplotlib in c:\\users\\user\\appdata\\local\\continuum\\anaconda3\\lib\\site-packages (3.5.3)\n",
      "Requirement already satisfied: seaborn in c:\\users\\user\\appdata\\local\\continuum\\anaconda3\\lib\\site-packages (0.12.2)\n",
      "Requirement already satisfied: plotly in c:\\users\\user\\appdata\\local\\continuum\\anaconda3\\lib\\site-packages (5.18.0)\n",
      "Requirement already satisfied: statsmodels in c:\\users\\user\\appdata\\local\\continuum\\anaconda3\\lib\\site-packages (0.9.0)\n",
      "Requirement already satisfied: dash in c:\\users\\user\\appdata\\local\\continuum\\anaconda3\\lib\\site-packages (2.15.0)\n",
      "Requirement already satisfied: pytz>=2017.3 in c:\\users\\user\\appdata\\local\\continuum\\anaconda3\\lib\\site-packages (from pandas) (2018.7)\n",
      "Requirement already satisfied: python-dateutil>=2.7.3 in c:\\users\\user\\appdata\\local\\continuum\\anaconda3\\lib\\site-packages (from pandas) (2.7.5)\n",
      "Requirement already satisfied: pyparsing>=2.2.1 in c:\\users\\user\\appdata\\local\\continuum\\anaconda3\\lib\\site-packages (from matplotlib) (2.3.0)\n",
      "Requirement already satisfied: cycler>=0.10 in c:\\users\\user\\appdata\\local\\continuum\\anaconda3\\lib\\site-packages (from matplotlib) (0.10.0)\n",
      "Requirement already satisfied: packaging>=20.0 in c:\\users\\user\\appdata\\local\\continuum\\anaconda3\\lib\\site-packages (from matplotlib) (24.0)\n",
      "Requirement already satisfied: pillow>=6.2.0 in c:\\users\\user\\appdata\\local\\continuum\\anaconda3\\lib\\site-packages (from matplotlib) (9.5.0)\n",
      "Requirement already satisfied: fonttools>=4.22.0 in c:\\users\\user\\appdata\\local\\continuum\\anaconda3\\lib\\site-packages (from matplotlib) (4.38.0)\n",
      "Requirement already satisfied: kiwisolver>=1.0.1 in c:\\users\\user\\appdata\\local\\continuum\\anaconda3\\lib\\site-packages (from matplotlib) (1.0.1)\n",
      "Requirement already satisfied: typing_extensions; python_version < \"3.8\" in c:\\users\\user\\appdata\\local\\continuum\\anaconda3\\lib\\site-packages (from seaborn) (4.7.1)\n",
      "Requirement already satisfied: tenacity>=6.2.0 in c:\\users\\user\\appdata\\local\\continuum\\anaconda3\\lib\\site-packages (from plotly) (8.2.3)\n",
      "Requirement already satisfied: retrying in c:\\users\\user\\appdata\\local\\continuum\\anaconda3\\lib\\site-packages (from dash) (1.3.4)\n",
      "Requirement already satisfied: dash-html-components==2.0.0 in c:\\users\\user\\appdata\\local\\continuum\\anaconda3\\lib\\site-packages (from dash) (2.0.0)\n",
      "Requirement already satisfied: nest-asyncio in c:\\users\\user\\appdata\\local\\continuum\\anaconda3\\lib\\site-packages (from dash) (1.6.0)\n",
      "Requirement already satisfied: setuptools in c:\\users\\user\\appdata\\local\\continuum\\anaconda3\\lib\\site-packages (from dash) (40.6.3)\n",
      "Requirement already satisfied: Flask<3.1,>=1.0.4 in c:\\users\\user\\appdata\\local\\continuum\\anaconda3\\lib\\site-packages (from dash) (2.2.5)\n",
      "Requirement already satisfied: dash-table==5.0.0 in c:\\users\\user\\appdata\\local\\continuum\\anaconda3\\lib\\site-packages (from dash) (5.0.0)\n",
      "Requirement already satisfied: importlib-metadata; python_version >= \"3.7\" in c:\\users\\user\\appdata\\local\\continuum\\anaconda3\\lib\\site-packages (from dash) (0.6)\n",
      "Requirement already satisfied: dash-core-components==2.0.0 in c:\\users\\user\\appdata\\local\\continuum\\anaconda3\\lib\\site-packages (from dash) (2.0.0)\n",
      "Requirement already satisfied: requests in c:\\users\\user\\appdata\\local\\continuum\\anaconda3\\lib\\site-packages (from dash) (2.21.0)\n",
      "Requirement already satisfied: Werkzeug<3.1 in c:\\users\\user\\appdata\\local\\continuum\\anaconda3\\lib\\site-packages (from dash) (0.14.1)\n",
      "Requirement already satisfied: six>=1.5 in c:\\users\\user\\appdata\\local\\continuum\\anaconda3\\lib\\site-packages (from python-dateutil>=2.7.3->pandas) (1.12.0)\n",
      "Requirement already satisfied: itsdangerous>=2.0 in c:\\users\\user\\appdata\\local\\continuum\\anaconda3\\lib\\site-packages (from Flask<3.1,>=1.0.4->dash) (2.1.2)\n",
      "Requirement already satisfied: Jinja2>=3.0 in c:\\users\\user\\appdata\\local\\continuum\\anaconda3\\lib\\site-packages (from Flask<3.1,>=1.0.4->dash) (3.1.4)\n",
      "Requirement already satisfied: click>=8.0 in c:\\users\\user\\appdata\\local\\continuum\\anaconda3\\lib\\site-packages (from Flask<3.1,>=1.0.4->dash) (8.1.7)\n",
      "Requirement already satisfied: certifi>=2017.4.17 in c:\\users\\user\\appdata\\local\\continuum\\anaconda3\\lib\\site-packages (from requests->dash) (2018.11.29)\n",
      "Requirement already satisfied: urllib3<1.25,>=1.21.1 in c:\\users\\user\\appdata\\local\\continuum\\anaconda3\\lib\\site-packages (from requests->dash) (1.24.1)\n",
      "Requirement already satisfied: idna<2.9,>=2.5 in c:\\users\\user\\appdata\\local\\continuum\\anaconda3\\lib\\site-packages (from requests->dash) (2.8)\n",
      "Requirement already satisfied: chardet<3.1.0,>=3.0.2 in c:\\users\\user\\appdata\\local\\continuum\\anaconda3\\lib\\site-packages (from requests->dash) (3.0.4)\n",
      "Requirement already satisfied: MarkupSafe>=2.0 in c:\\users\\user\\appdata\\local\\continuum\\anaconda3\\lib\\site-packages (from Jinja2>=3.0->Flask<3.1,>=1.0.4->dash) (2.1.5)\n",
      "Requirement already satisfied: colorama; platform_system == \"Windows\" in c:\\users\\user\\appdata\\local\\continuum\\anaconda3\\lib\\site-packages (from click>=8.0->Flask<3.1,>=1.0.4->dash) (0.4.1)\n"
     ]
    }
   ],
   "source": [
    "!pip install pandas numpy matplotlib seaborn plotly statsmodels dash"
   ]
  },
  {
   "cell_type": "code",
   "execution_count": 3,
   "metadata": {},
   "outputs": [],
   "source": [
    "import pandas as pd\n",
    "import numpy as np\n",
    "import matplotlib.pyplot as plt\n",
    "%matplotlib inline\n",
    "import seaborn as sns\n",
    "import plotly.express as px\n",
    "import chardet"
   ]
  },
  {
   "cell_type": "code",
   "execution_count": null,
   "metadata": {},
   "outputs": [],
   "source": [
    "filename = 'PurchasesFINAL12312016.csv'\n",
    "with open('PurchasesFINAL12312016.csv','rb') as f:\n",
    "    result = chardet.detect(f.read())\n",
    "    encoding=result['encoding']\n",
    "import os\n",
    "os.system(f\"file -i {filename}\")\n",
    "data = pd.read_csv('PurchasesFINAL12312016.csv', encoding=encoding, engine='python')\n",
    "data.head()"
   ]
  },
  {
   "cell_type": "code",
   "execution_count": null,
   "metadata": {},
   "outputs": [],
   "source": [
    "data.info()"
   ]
  },
  {
   "cell_type": "code",
   "execution_count": null,
   "metadata": {},
   "outputs": [],
   "source": [
    "df = data.copy()"
   ]
  },
  {
   "cell_type": "code",
   "execution_count": null,
   "metadata": {},
   "outputs": [],
   "source": [
    "pd.to_datetime(df['PODate'])"
   ]
  },
  {
   "cell_type": "code",
   "execution_count": null,
   "metadata": {},
   "outputs": [],
   "source": [
    "date_col = ['PODate', 'ReceivingDate', 'InvoiceDate','PayDate']\n",
    "df[date_col] = df[date_col].apply(pd.to_datetime)"
   ]
  },
  {
   "cell_type": "code",
   "execution_count": null,
   "metadata": {},
   "outputs": [],
   "source": [
    "data.info()"
   ]
  },
  {
   "cell_type": "code",
   "execution_count": null,
   "metadata": {},
   "outputs": [],
   "source": [
    "str_col = ['Store','Brand','Classification','VendorNumber','PONumber']\n",
    "df[str_col] = df[str_col].astype(str)"
   ]
  },
  {
   "cell_type": "code",
   "execution_count": null,
   "metadata": {},
   "outputs": [],
   "source": [
    "data.info()"
   ]
  },
  {
   "cell_type": "code",
   "execution_count": null,
   "metadata": {},
   "outputs": [],
   "source": [
    "(df['InvoiceDate'] - df['ReceivingDate']).dt.days"
   ]
  },
  {
   "cell_type": "code",
   "execution_count": null,
   "metadata": {},
   "outputs": [],
   "source": [
    "# Change Dtypes: Timedelta -> integer\n",
    "df['LeadTime'] = (df['InvoiceDate'] - df['ReceivingDate']).dt.days"
   ]
  },
  {
   "cell_type": "code",
   "execution_count": null,
   "metadata": {},
   "outputs": [],
   "source": [
    "df[['InvoiceDate', 'ReceivingDate', 'LeadTime']].head()"
   ]
  },
  {
   "cell_type": "code",
   "execution_count": null,
   "metadata": {},
   "outputs": [],
   "source": [
    "df['LeadTime'].describe()"
   ]
  },
  {
   "cell_type": "code",
   "execution_count": null,
   "metadata": {},
   "outputs": [],
   "source": [
    "df['OrderTime'] = (df['ReceivingDate'] - df['PODate']).dt.days"
   ]
  },
  {
   "cell_type": "code",
   "execution_count": null,
   "metadata": {},
   "outputs": [],
   "source": [
    "df[['PODate','ReceivingDate','OrderTime']].head()"
   ]
  },
  {
   "cell_type": "code",
   "execution_count": null,
   "metadata": {},
   "outputs": [],
   "source": [
    "df['OrderTime'].describe()"
   ]
  },
  {
   "cell_type": "code",
   "execution_count": null,
   "metadata": {},
   "outputs": [],
   "source": [
    "((df['InvoiceDate'] - df['ReceivingDate']) < pd.Timedelta(0)).value_counts()"
   ]
  },
  {
   "cell_type": "code",
   "execution_count": null,
   "metadata": {},
   "outputs": [],
   "source": [
    "df['PaymentLT'] = (df['PayDate'] - df['InvoiceDate']).dt.days"
   ]
  },
  {
   "cell_type": "code",
   "execution_count": null,
   "metadata": {},
   "outputs": [],
   "source": [
    "df['PaymentLT'].describe()"
   ]
  },
  {
   "cell_type": "code",
   "execution_count": null,
   "metadata": {},
   "outputs": [],
   "source": [
    "df.info()"
   ]
  },
  {
   "cell_type": "code",
   "execution_count": null,
   "metadata": {},
   "outputs": [],
   "source": [
    "df.head()"
   ]
  },
  {
   "cell_type": "code",
   "execution_count": null,
   "metadata": {},
   "outputs": [],
   "source": [
    "df['InventoryId']"
   ]
  },
  {
   "cell_type": "code",
   "execution_count": null,
   "metadata": {},
   "outputs": [],
   "source": [
    "#### Split by '_' and expand into separate columns\n",
    "df['InventoryId'].str.split('_', expand=True)"
   ]
  },
  {
   "cell_type": "code",
   "execution_count": null,
   "metadata": {},
   "outputs": [],
   "source": [
    "df[['Split_1', 'InventoryCategory', 'Split_3']] = df['InventoryId'].str.split('_', expand=True)"
   ]
  },
  {
   "cell_type": "code",
   "execution_count": null,
   "metadata": {},
   "outputs": [],
   "source": [
    "df.head()"
   ]
  },
  {
   "cell_type": "code",
   "execution_count": null,
   "metadata": {},
   "outputs": [],
   "source": [
    "df = df.drop(columns=['Split_1', 'Split_3'])"
   ]
  },
  {
   "cell_type": "code",
   "execution_count": null,
   "metadata": {},
   "outputs": [],
   "source": [
    "df.columns"
   ]
  },
  {
   "cell_type": "code",
   "execution_count": null,
   "metadata": {},
   "outputs": [],
   "source": [
    "df['InventoryCategory'].value_counts()"
   ]
  },
  {
   "cell_type": "code",
   "execution_count": null,
   "metadata": {},
   "outputs": [],
   "source": [
    "df['InventoryCategory'].isna().value_counts()"
   ]
  },
  {
   "cell_type": "code",
   "execution_count": null,
   "metadata": {},
   "outputs": [],
   "source": [
    "(df['InventoryCategory'] =='').value_counts()"
   ]
  },
  {
   "cell_type": "code",
   "execution_count": null,
   "metadata": {},
   "outputs": [],
   "source": [
    "df[df['InventoryCategory'] == ''][['InventoryId','InventoryCategory']]"
   ]
  },
  {
   "cell_type": "code",
   "execution_count": null,
   "metadata": {},
   "outputs": [],
   "source": [
    "df1 = df.copy()"
   ]
  },
  {
   "cell_type": "code",
   "execution_count": null,
   "metadata": {},
   "outputs": [],
   "source": [
    "df1 = df[df['InventoryCategory'] != '']"
   ]
  },
  {
   "cell_type": "code",
   "execution_count": null,
   "metadata": {},
   "outputs": [],
   "source": [
    "print(df.shape, df1.shape)"
   ]
  },
  {
   "cell_type": "code",
   "execution_count": null,
   "metadata": {},
   "outputs": [],
   "source": [
    "df1.select_dtypes(include=[float, int])"
   ]
  },
  {
   "cell_type": "code",
   "execution_count": null,
   "metadata": {},
   "outputs": [],
   "source": [
    "df1.columns"
   ]
  },
  {
   "cell_type": "code",
   "execution_count": null,
   "metadata": {},
   "outputs": [],
   "source": [
    "df1.select_dtypes(include=['datetime']).columns.to_list()"
   ]
  },
  {
   "cell_type": "code",
   "execution_count": null,
   "metadata": {},
   "outputs": [],
   "source": [
    "numerical_features =  df1.select_dtypes(include=[float, int]).columns.to_list()\n",
    "date_features = df1.select_dtypes(include=['datetime']).columns.to_list()\n",
    "categorical_features =  df1.columns.difference(numerical_features + date_features).to_list()\n",
    "\n",
    "print(numerical_features)\n",
    "print(date_features)\n",
    "print(categorical_features)"
   ]
  },
  {
   "cell_type": "code",
   "execution_count": null,
   "metadata": {},
   "outputs": [],
   "source": [
    "print(len(numerical_features + date_features + categorical_features))\n",
    "print(len(df1.columns))"
   ]
  },
  {
   "cell_type": "code",
   "execution_count": null,
   "metadata": {},
   "outputs": [],
   "source": [
    "df1['LeadTime'].hist(bins=20)\n",
    "plt.title('Distribution of Lead Time')\n",
    "plt.xlabel('Lead Time (Days)')\n",
    "plt.ylabel('Frequency')\n",
    "plt.show()"
   ]
  },
  {
   "cell_type": "code",
   "execution_count": null,
   "metadata": {},
   "outputs": [],
   "source": [
    "sns.boxplot(x='LeadTime', data=df1)\n",
    "plt.title('Lead Time Outliers')\n",
    "plt.show()"
   ]
  },
  {
   "cell_type": "code",
   "execution_count": null,
   "metadata": {},
   "outputs": [],
   "source": [
    "df2 = df1.copy()"
   ]
  },
  {
   "cell_type": "code",
   "execution_count": null,
   "metadata": {},
   "outputs": [],
   "source": [
    "df2['LogLeadTime'] = np.log(df1['LeadTime'] + 1)"
   ]
  },
  {
   "cell_type": "code",
   "execution_count": null,
   "metadata": {},
   "outputs": [],
   "source": [
    "df2['LogLeadTime'].hist(bins=20)\n",
    "plt.title('Distribution of Lead Time: Log Transformation')\n",
    "plt.xlabel('Lead Time (Days)')\n",
    "plt.ylabel('Frequency')\n",
    "plt.show()"
   ]
  },
  {
   "cell_type": "code",
   "execution_count": null,
   "metadata": {},
   "outputs": [],
   "source": [
    "df2['OrderWeekday'] = df1['PODate'].dt.weekday"
   ]
  },
  {
   "cell_type": "code",
   "execution_count": null,
   "metadata": {},
   "outputs": [],
   "source": [
    "df2['PODate'].hist(bins=20)\n",
    "plt.title('Distribution of Order Date')\n",
    "plt.xlabel('Order Date')\n",
    "plt.ylabel('Frequency')\n",
    "plt.show()"
   ]
  },
  {
   "cell_type": "code",
   "execution_count": null,
   "metadata": {},
   "outputs": [],
   "source": [
    "df2['OrderWeekday'].hist(bins=20)\n",
    "plt.title('Distribution of Order Date-Weekday')\n",
    "plt.xlabel('Order Time (Weekday)')\n",
    "plt.ylabel('Frequency')\n",
    "plt.show()"
   ]
  },
  {
   "cell_type": "code",
   "execution_count": null,
   "metadata": {},
   "outputs": [],
   "source": [
    "df1.groupby('VendorNumber').agg({\n",
    "    'LeadTime': ['mean', 'min', 'max'],\n",
    "    'OrderTime': ['mean', 'min', 'max'],\n",
    "    'PaymentLT': ['mean',  'min', 'max']\n",
    "})"
   ]
  },
  {
   "cell_type": "code",
   "execution_count": null,
   "metadata": {},
   "outputs": [],
   "source": [
    "summary_vendor = df1.groupby('VendorNumber').agg({\n",
    "                'LeadTime': ['mean', 'min', 'max'],\n",
    "                'OrderTime': ['mean', 'min', 'max'],\n",
    "                'PaymentLT': ['mean',  'min', 'max']\n",
    "            })"
   ]
  },
  {
   "cell_type": "code",
   "execution_count": null,
   "metadata": {},
   "outputs": [],
   "source": [
    "summary_vendor.sort_values(('OrderTime', 'mean'), ascending=False).head(5)"
   ]
  },
  {
   "cell_type": "code",
   "execution_count": null,
   "metadata": {},
   "outputs": [],
   "source": [
    "summary_vendor.sort_values(('OrderTime', 'mean'), ascending=True).head(5)"
   ]
  },
  {
   "cell_type": "code",
   "execution_count": null,
   "metadata": {},
   "outputs": [],
   "source": [
    "top_bad_5 = summary_vendor.sort_values(('OrderTime', 'mean'), ascending=False).head(5)\n",
    "top_bad_10 = summary_vendor.sort_values(('OrderTime', 'mean'), ascending=False).head(10)\n",
    "\n",
    "\n",
    "top_bad_5_index = top_bad_5.index.tolist()\n",
    "top_bad_10_index = top_bad_10.index.tolist()\n",
    "\n",
    "print(top_bad_5_index)\n",
    "print(top_bad_10_index)"
   ]
  },
  {
   "cell_type": "code",
   "execution_count": null,
   "metadata": {},
   "outputs": [],
   "source": [
    "top_good_5 = summary_vendor.sort_values(('OrderTime', 'mean'), ascending=True).head(5)\n",
    "top_good_5_index = top_good_5.index.tolist()\n",
    "print(top_good_5_index)"
   ]
  },
  {
   "cell_type": "code",
   "execution_count": null,
   "metadata": {},
   "outputs": [],
   "source": [
    "print(top_bad_5_index)\n",
    "filtered_top5_bad_vendor= df1[df1['VendorNumber'].isin(top_bad_5_index)]\n",
    "\n",
    "supplier_performance = filtered_top5_bad_vendor.groupby('VendorNumber')['OrderTime'].mean().reset_index()\n",
    "\n",
    "supplier_performance = supplier_performance.sort_values(by='OrderTime', ascending=True)\n",
    "\n",
    "plt.bar(supplier_performance['VendorNumber'], supplier_performance['OrderTime'], color='skyblue')\n",
    "\n",
    "plt.title('Average OrderTime by Supplier: Worst Top5')\n",
    "plt.xlabel('Supplier')\n",
    "plt.ylabel('Average OrderTime (Days)')\n",
    "\n",
    "plt.yticks(ticks=range(0, int(supplier_performance['OrderTime'].max()) + 1))\n",
    "\n",
    "plt.tight_layout()\n",
    "plt.show()"
   ]
  },
  {
   "cell_type": "code",
   "execution_count": null,
   "metadata": {},
   "outputs": [],
   "source": [
    "print(top_bad_10_index)\n",
    "filtered_top10_bad_vendor= df1[df1['VendorNumber'].isin(top_bad_10_index)]\n",
    "\n",
    "supplier_performance = filtered_top10_bad_vendor.groupby('VendorNumber')['OrderTime'].mean().reset_index()\n",
    "\n",
    "supplier_performance = supplier_performance.sort_values(by='OrderTime', ascending=True)\n",
    "\n",
    "plt.bar(supplier_performance['VendorNumber'], supplier_performance['OrderTime'], color='skyblue')\n",
    "\n",
    "plt.title('Average OrderTime by Supplier: Worst Top10')\n",
    "plt.xlabel('Supplier')\n",
    "plt.ylabel('Average OrderTime (Days)')\n",
    "\n",
    "plt.yticks(ticks=range(0, int(supplier_performance['OrderTime'].max()) + 1))\n",
    "\n",
    "plt.tight_layout()\n",
    "plt.show()"
   ]
  },
  {
   "cell_type": "code",
   "execution_count": null,
   "metadata": {},
   "outputs": [],
   "source": [
    "import matplotlib.pyplot as plt\n",
    "\n",
    "plt.figure(figsize=(8, 6))\n",
    "filtered_top5_bad_vendor.boxplot(column='OrderTime', by='VendorNumber', grid=False)\n",
    "\n",
    "plt.title('Order Time Distribution by Supplier:Worst Top10')\n",
    "plt.suptitle('')\n",
    "plt.xlabel('Supplier')\n",
    "plt.ylabel('OrderTime (Days)')\n",
    "\n",
    "plt.tight_layout()\n",
    "plt.show()"
   ]
  },
  {
   "cell_type": "code",
   "execution_count": null,
   "metadata": {},
   "outputs": [],
   "source": [
    "import matplotlib.pyplot as plt\n",
    "\n",
    "plt.figure(figsize=(8, 6))\n",
    "filtered_top10_bad_vendor.boxplot(column='OrderTime', by='VendorNumber', grid=False)\n",
    "\n",
    "plt.title('Order Time Distribution by Supplier: Worst Top10')\n",
    "plt.suptitle('')\n",
    "plt.xlabel('Supplier')\n",
    "plt.ylabel('OrderTime (Days)')\n",
    "\n",
    "plt.tight_layout()\n",
    "plt.show()"
   ]
  },
  {
   "cell_type": "code",
   "execution_count": null,
   "metadata": {},
   "outputs": [],
   "source": [
    "import seaborn as sns\n",
    "\n",
    "plt.figure(figsize=(8, 6))\n",
    "sns.violinplot(x='VendorNumber', y='OrderTime', data=filtered_top10_bad_vendor)\n",
    "\n",
    "plt.title('Order Time Distribution by Supplier (Violin Plot): Worst Top10')\n",
    "plt.xlabel('Supplier')\n",
    "plt.ylabel('Order Time (Days)')\n",
    "\n",
    "plt.tight_layout()\n",
    "plt.show()"
   ]
  },
  {
   "cell_type": "code",
   "execution_count": null,
   "metadata": {},
   "outputs": [],
   "source": [
    "filtered_top10_bad_vendor.info()"
   ]
  },
  {
   "cell_type": "code",
   "execution_count": null,
   "metadata": {},
   "outputs": [],
   "source": [
    "import seaborn as sns\n",
    "import pandas as pd\n",
    "\n",
    "filtered_top10_bad_vendor['PODate'] = pd.to_datetime(filtered_top10_bad_vendor['PODate'])\n",
    "lead_time_heatmap_data = filtered_top10_bad_vendor.pivot_table(index=filtered_top10_bad_vendor['PODate'].dt.to_period('M'), columns='VendorNumber', values='OrderTime', aggfunc='mean')\n",
    "\n",
    "plt.figure(figsize=(10, 6))\n",
    "sns.heatmap(lead_time_heatmap_data, cmap='coolwarm', annot=True, fmt=\".1f\")\n",
    "\n",
    "plt.title('Supplier Lead Time Heatmap Over Time')\n",
    "plt.xlabel('Supplier')\n",
    "plt.ylabel('Month')\n",
    "\n",
    "plt.tight_layout()\n",
    "plt.show()"
   ]
  },
  {
   "cell_type": "code",
   "execution_count": null,
   "metadata": {},
   "outputs": [],
   "source": [
    "print(top_good_5_index)\n",
    "filtered_top5_good_vendor= df1[df1['VendorNumber'].isin(top_good_5_index)]\n",
    "\n",
    "supplier_performance = filtered_top5_good_vendor.groupby('VendorNumber')['OrderTime'].mean().reset_index()\n",
    "\n",
    "supplier_performance = supplier_performance.sort_values(by='OrderTime', ascending=True)\n",
    "\n",
    "plt.bar(supplier_performance['VendorNumber'], supplier_performance['OrderTime'], color='skyblue')\n",
    "\n",
    "plt.title('Average OrderTime by Supplier')\n",
    "plt.xlabel('Supplier')\n",
    "plt.ylabel('Average OrderTime (Days)')\n",
    "\n",
    "plt.yticks(ticks=range(0, int(supplier_performance['OrderTime'].max()) + 1))\n",
    "\n",
    "plt.tight_layout()\n",
    "plt.show()"
   ]
  },
  {
   "cell_type": "code",
   "execution_count": null,
   "metadata": {},
   "outputs": [],
   "source": [
    "import matplotlib.pyplot as plt\n",
    "\n",
    "plt.figure(figsize=(8, 6))\n",
    "filtered_top5_good_vendor.boxplot(column='OrderTime', by='VendorNumber', grid=False)\n",
    "\n",
    "plt.title('Order Time Distribution by Supplier')\n",
    "plt.suptitle('')\n",
    "plt.xlabel('Supplier')\n",
    "plt.ylabel('OrderTime (Days)')\n",
    "\n",
    "plt.tight_layout()\n",
    "plt.show()"
   ]
  },
  {
   "cell_type": "code",
   "execution_count": null,
   "metadata": {},
   "outputs": [],
   "source": [
    "summary_store = df1.groupby('Store').agg({\n",
    "                'LeadTime': ['mean', 'min', 'max'],\n",
    "                'OrderTime': ['mean', 'min', 'max'],\n",
    "                'PaymentLT': ['mean',  'min', 'max']\n",
    "            })"
   ]
  },
  {
   "cell_type": "code",
   "execution_count": null,
   "metadata": {},
   "outputs": [],
   "source": [
    "summary_store.sort_values(('PaymentLT', 'mean'), ascending=False).head(5)"
   ]
  },
  {
   "cell_type": "code",
   "execution_count": null,
   "metadata": {},
   "outputs": [],
   "source": [
    "summary_store.sort_values(('PaymentLT', 'mean'), ascending=True).head(5)"
   ]
  },
  {
   "cell_type": "code",
   "execution_count": null,
   "metadata": {},
   "outputs": [],
   "source": [
    "summary_inventoryCat = df1.groupby('InventoryCategory').agg({\n",
    "                'LeadTime': ['mean', 'min', 'max'],\n",
    "                'OrderTime': ['mean', 'min', 'max'],\n",
    "                'PaymentLT': ['mean',  'min', 'max']\n",
    "            })"
   ]
  },
  {
   "cell_type": "code",
   "execution_count": null,
   "metadata": {},
   "outputs": [],
   "source": [
    "summary_inventoryCat.sort_values(('OrderTime', 'mean'), ascending=True).head(5)"
   ]
  },
  {
   "cell_type": "code",
   "execution_count": null,
   "metadata": {},
   "outputs": [],
   "source": [
    "summary_inventoryCat.sort_values(('OrderTime', 'mean'), ascending=False).head(5)"
   ]
  },
  {
   "cell_type": "code",
   "execution_count": null,
   "metadata": {},
   "outputs": [],
   "source": [
    "podate_att = df1.groupby(['PODate', 'Classification']).apply(lambda x: x['PODate'].count()).reset_index(name='Counts')\n",
    "\n",
    "fig = px.line(podate_att, x='PODate', y='Counts', color='Classification', title='Purchase Order Counts by Date and Classification')\n",
    "\n",
    "fig.show()"
   ]
  },
  {
   "cell_type": "code",
   "execution_count": null,
   "metadata": {},
   "outputs": [],
   "source": [
    "df1[(df1['InventoryCategory'] == 'ABERDEEN') & (df1['PODate'] == '2016-06-27')]"
   ]
  },
  {
   "cell_type": "code",
   "execution_count": null,
   "metadata": {},
   "outputs": [],
   "source": [
    "numeric_df1 = df1[numerical_features]\n",
    "\n",
    "correlation_matrix = numeric_df1.corr()\n",
    "\n",
    "print(correlation_matrix)"
   ]
  },
  {
   "cell_type": "code",
   "execution_count": null,
   "metadata": {},
   "outputs": [],
   "source": [
    "pd.DataFrame(correlation_matrix).to_clipboard()"
   ]
  },
  {
   "cell_type": "code",
   "execution_count": null,
   "metadata": {},
   "outputs": [],
   "source": [
    "import seaborn as sns\n",
    "import matplotlib.pyplot as plt\n",
    "\n",
    "numeric_df1 = df1[numerical_features]\n",
    "\n",
    "correlation_matrix = numeric_df1.corr()\n",
    "\n",
    "plt.figure(figsize=(10, 8))\n",
    "\n",
    "sns.heatmap(correlation_matrix, annot=True, fmt=\".2f\", cmap='coolwarm', linewidths=0.5)\n",
    "\n",
    "plt.title('Correlation Matrix of Numerical Features')\n",
    "plt.show()"
   ]
  },
  {
   "cell_type": "code",
   "execution_count": null,
   "metadata": {},
   "outputs": [],
   "source": [
    "filtered_top5_good_vendor['Classification'].value_counts()"
   ]
  },
  {
   "cell_type": "code",
   "execution_count": null,
   "metadata": {},
   "outputs": [],
   "source": [
    "filtered_top5_good_vendor['Classification'].value_counts()"
   ]
  },
  {
   "cell_type": "code",
   "execution_count": null,
   "metadata": {},
   "outputs": [],
   "source": [
    "filtered_top5_good_vendor['RollingMeanLeadTime'] = filtered_top5_good_vendor['LeadTime'].rolling(window=10).mean()\n",
    "plt.plot(filtered_top5_good_vendor['PODate'], filtered_top5_good_vendor['RollingMeanLeadTime'])\n",
    "plt.title('Rolling Average of Lead Time')\n",
    "plt.xlabel('Date')\n",
    "plt.ylabel('Lead Time (Days)')\n",
    "plt.xticks(rotation=45)\n",
    "plt.show()\n",
    "\n",
    "plt.figure(figsize=(10, 6))\n",
    "\n",
    "\n",
    "for inventory_class in filtered_top5_good_vendor['Classification'].unique():\n",
    "    inventory_data = filtered_top5_good_vendor[filtered_top5_good_vendor['Classification'] == inventory_class]\n",
    "    plt.plot(inventory_data['PODate'], inventory_data['RollingMeanLeadTime'], label=f'Classification: {inventory_class}')\n",
    "\n",
    "\n",
    "plt.title('Rolling Average of Lead Time by Classification')\n",
    "plt.xlabel('Date')\n",
    "plt.ylabel('Rolling Mean Lead Time (Days)')\n",
    "plt.legend(title='Classification')\n",
    "\n",
    "\n",
    "plt.tight_layout()\n",
    "plt.show()"
   ]
  },
  {
   "cell_type": "code",
   "execution_count": null,
   "metadata": {},
   "outputs": [],
   "source": [
    "podate_att = df1.groupby(['PODate', 'InventoryCategory']).apply(lambda x: x['PODate'].count()).reset_index(name='Counts')\n",
    "\n",
    "\n",
    "fig = px.line(podate_att, x='PODate', y='Counts', color='InventoryCategory', title='Purchase Order Counts by Date and InventoryCategory')\n",
    "\n",
    "\n",
    "fig.show()"
   ]
  },
  {
   "cell_type": "code",
   "execution_count": null,
   "metadata": {},
   "outputs": [],
   "source": [
    "filtered_top5_bad_vendor['RollingMeanLeadTime'] = filtered_top5_bad_vendor['LeadTime'].rolling(window=10).mean()\n",
    "plt.plot(filtered_top5_bad_vendor['PODate'], filtered_top5_bad_vendor['RollingMeanLeadTime'])\n",
    "plt.title('Rolling Average of Lead Time: Worst Top5 Vendor')\n",
    "plt.xlabel('Date')\n",
    "plt.ylabel('Lead Time (Days)')\n",
    "plt.xticks(rotation=45)\n",
    "plt.show()"
   ]
  },
  {
   "cell_type": "code",
   "execution_count": null,
   "metadata": {},
   "outputs": [],
   "source": [
    "filtered_top5_bad_vendor['RollingMeanLeadTime'].describe()"
   ]
  },
  {
   "cell_type": "code",
   "execution_count": null,
   "metadata": {},
   "outputs": [],
   "source": [
    "plt.figure(figsize=(10, 6))\n",
    "for inventory_cat in filtered_top5_bad_vendor['InventoryCategory'].unique():\n",
    "    inventory_data = filtered_top5_bad_vendor[filtered_top5_bad_vendor['InventoryCategory'] == inventory_cat]\n",
    "    plt.plot(inventory_data['PODate'], inventory_data['RollingMeanLeadTime'], label=f'InventoryCategory: {inventory_cat}')\n",
    "\n",
    "plt.title('Rolling Average of Lead Time by InventoryCategory')\n",
    "plt.xlabel('Date')\n",
    "plt.ylabel('Rolling Mean Lead Time (Days)')\n",
    "plt.legend(title='InventoryCategory')\n",
    "\n",
    "plt.tight_layout()\n",
    "plt.show()"
   ]
  },
  {
   "cell_type": "code",
   "execution_count": null,
   "metadata": {},
   "outputs": [],
   "source": [
    "filtered_top5_good_vendor['RollingMeanLeadTime'] = filtered_top5_good_vendor['LeadTime'].rolling(window=10).mean()\n",
    "plt.plot(filtered_top5_good_vendor['PODate'], filtered_top5_good_vendor['RollingMeanLeadTime'])\n",
    "plt.title('Rolling Average of Lead Time: Best Top5 Vendor')\n",
    "plt.xlabel('Date')\n",
    "plt.ylabel('Lead Time (Days)')\n",
    "plt.xticks(rotation=45)\n",
    "plt.show()\n",
    "plt.figure(figsize=(10, 6))\n",
    "\n",
    "\n",
    "for inventory_cat in filtered_top5_good_vendor['InventoryCategory'].unique():\n",
    "    inventory_data = filtered_top5_good_vendor[filtered_top5_good_vendor['InventoryCategory'] == inventory_cat]\n",
    "    plt.plot(inventory_data['PODate'], inventory_data['RollingMeanLeadTime'], label=f'InventoryCategory: {inventory_cat}')\n",
    "\n",
    "plt.title('Rolling Average of Lead Time by InventoryCategory')\n",
    "plt.xlabel('Date')\n",
    "plt.ylabel('Rolling Mean Lead Time (Days)')\n",
    "plt.legend(title='InventoryCategory')\n",
    "\n",
    "plt.tight_layout()\n",
    "plt.show()"
   ]
  }
 ],
 "metadata": {
  "kernelspec": {
   "display_name": "myenv",
   "language": "python",
   "name": "myenv"
  },
  "language_info": {
   "codemirror_mode": {
    "name": "ipython",
    "version": 3
   },
   "file_extension": ".py",
   "mimetype": "text/x-python",
   "name": "python",
   "nbconvert_exporter": "python",
   "pygments_lexer": "ipython3",
   "version": "3.12.6"
  }
 },
 "nbformat": 4,
 "nbformat_minor": 2
}
